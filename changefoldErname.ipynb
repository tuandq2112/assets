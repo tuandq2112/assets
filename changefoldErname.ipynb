{
 "cells": [
  {
   "cell_type": "code",
   "execution_count": 4,
   "metadata": {},
   "outputs": [],
   "source": [
    "import os"
   ]
  },
  {
   "cell_type": "code",
   "execution_count": 5,
   "metadata": {},
   "outputs": [],
   "source": [
    "PATH = \"blockchains\"\n",
    "\n"
   ]
  },
  {
   "cell_type": "code",
   "execution_count": 6,
   "metadata": {},
   "outputs": [],
   "source": [
    "for folder in os.listdir(PATH):\n",
    "    asset_folder = f\"{PATH}/{folder}/assets\"\n",
    "    if(os.path.exists(asset_folder)):\n",
    "        for logoFolderName in os.listdir(asset_folder):\n",
    "            # Change name\n",
    "            newName = logoFolderName.lower()\n",
    "            os.rename(f\"{asset_folder}/{logoFolderName}\", f\"{asset_folder}/{newName}\")\n"
   ]
  }
 ],
 "metadata": {
  "kernelspec": {
   "display_name": "Python 3",
   "language": "python",
   "name": "python3"
  },
  "language_info": {
   "codemirror_mode": {
    "name": "ipython",
    "version": 3
   },
   "file_extension": ".py",
   "mimetype": "text/x-python",
   "name": "python",
   "nbconvert_exporter": "python",
   "pygments_lexer": "ipython3",
   "version": "3.9.7 (tags/v3.9.7:1016ef3, Aug 30 2021, 20:19:38) [MSC v.1929 64 bit (AMD64)]"
  },
  "orig_nbformat": 4,
  "vscode": {
   "interpreter": {
    "hash": "9d2e2287b90f84c05b564773cad156a65fe051f83fa7c81a3ad23c3ed1bf9926"
   }
  }
 },
 "nbformat": 4,
 "nbformat_minor": 2
}
